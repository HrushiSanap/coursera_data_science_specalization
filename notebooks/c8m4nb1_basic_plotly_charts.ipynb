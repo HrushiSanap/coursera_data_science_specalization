{
 "cells": [
  {
   "cell_type": "markdown",
   "id": "3e0a01d0-3c2a-4e7c-b2d6-6f9753d20200",
   "metadata": {},
   "source": [
    "# C8M4 Notebook 1: Basic Plotly Charts\n",
    "\n",
    "(Run files in local environment)\n",
    "\n",
    "## Plotly Libraries\n",
    "\n",
    "**plotly.graph_objects:** \n",
    "This is a low level interface to figures, traces and layout. The Plotly graph objects module provides an automatically generated hierarchy of classes ( figures, traces, and layout) called graph objects. These graph objects represent figures with a top-level class plotly.graph_objects.Figure.\n",
    "\n",
    "**plotly.express:** \n",
    "Plotly express is a high-level wrapper for Plotly. It is a recommended starting point for creating the most common figures provided by Plotly using a simpler syntax. It uses graph objects internally.\n",
    "Now let us use these libraries to plot some charts\n",
    "We will start with plotly_graph_objects to plot line and scatter plots\n",
    "> Note: You can hover the mouse over the charts whenever you want to view any statistics in the visualization charts \n",
    "\n"
   ]
  },
  {
   "cell_type": "code",
   "execution_count": null,
   "id": "47104678-ee26-4c8b-aa9d-1641551b8ff4",
   "metadata": {},
   "outputs": [],
   "source": [
    "#import libraries\n",
    "import pandas as pd\n",
    "import numpy as np\n",
    "import plotly.express as px\n",
    "import plotly.graph_objects as go"
   ]
  },
  {
   "cell_type": "markdown",
   "id": "0aff98b5-fd45-4f0a-957a-6808b3c98228",
   "metadata": {},
   "source": [
    "## Scatter Plot\n",
    "A scatter plot shows the relationship between 2 variables on the x and y-axis. The data points here appear scattered when plotted on a two-dimensional plane. Using scatter plots, we can create exciting visualizations to express various relationships, such as:\n",
    "\n",
    "* Height vs weight of persons\n",
    "* Engine size vs automobile price\n",
    "* Exercise time vs Body Fat\n"
   ]
  },
  {
   "cell_type": "code",
   "execution_count": null,
   "id": "ea7fcbea-a67e-4666-882d-f58892bd7b6a",
   "metadata": {},
   "outputs": [],
   "source": [
    "# ex1: Income vs Age  of people in scatter plot\n",
    "age_array = np.random.randint(25, 55, 60)\n",
    "income_array = np.random.randint(300000, 700000, 3000000)\n",
    "\n",
    "#1st, create empty figure using go.Figure()\n",
    "fig = go.Figure()\n",
    "fig"
   ]
  },
  {
   "cell_type": "code",
   "execution_count": null,
   "id": "1db6e2e6-49c3-4564-90b3-82a616b4533c",
   "metadata": {},
   "outputs": [],
   "source": [
    "#Next we will create a scatter plot by using the add_trace function and use the go.scatter() function within it\n",
    "# In go.Scatter we define the x-axis data,y-axis data and define the mode as markers with color of the marker as blue\n",
    "fig.add_trace(go.Scatter(x = age_array, y = income_array, mode = \"markers\", marker = dict(color = 'blue')))"
   ]
  },
  {
   "cell_type": "code",
   "execution_count": null,
   "id": "176a4b63-e92d-4a43-84ed-313115daf22f",
   "metadata": {},
   "outputs": [],
   "source": [
    "fig.update_layout(title = \"Economic Survey\", xaxis_title = \"Age\", yaxis_title = \"Income\")\n",
    "fig.show()"
   ]
  },
  {
   "cell_type": "markdown",
   "id": "a9063316-67e6-4d50-80fc-599f431248d6",
   "metadata": {},
   "source": [
    "---\n",
    "## Line Plot\n",
    "A line plot shows information that changes continuously with time. Here the data points are connected by straight lines. Line plots are also plotted on a two dimensional plane like scatter plots. Using line plots, we can create exciting visualizations to illustrate:\n",
    "\n",
    "  * Annual revenue growth\n",
    "  * Stock Market analysis over time\n",
    "  * Product Sales over time\n"
   ]
  },
  {
   "cell_type": "code",
   "execution_count": null,
   "id": "0040a3a4-b5ab-44ac-9301-e667ea34ec70",
   "metadata": {},
   "outputs": [],
   "source": [
    "#ex2: illustrate the sales of bicycles from Jan to August last year using a line chart\n",
    "bicycle_sales_array = [50, 100, 40, 150, 160, 70, 60, 45, 85, 100, 90, 75]\n",
    "months_array = [\"Jan\",\"Feb\",\"Mar\",\"April\",\"May\",\"Jun\",\"Jul\",\"Aug\", \"Sep\", \"Oct\", \"Nov\", \"Dec\" ]\n",
    "\n",
    "fig = go.Figure()\n",
    "fig.add_trace(go.Scatter(x = months_array, y = bicycle_sales_array,\n",
    "                         mode = \"lines\", marker = dict(color =\"green\")))\n",
    "\n",
    "fig.update_layout(title='Bicycle Sales', xaxis_title='Months', yaxis_title='Number of Bicycles Sold')\n",
    "\n",
    "fig.show()"
   ]
  },
  {
   "cell_type": "markdown",
   "id": "8c44a60a-90eb-49e4-ab8e-99d7493ba664",
   "metadata": {},
   "source": [
    "---\n",
    "## Bar Plot\n",
    "  \n",
    "## 3.Bar Plot: \n",
    "A bar plot represents categorical data in rectangular bars. Each category is defined on one axis, and the value counts for this category are represented on another axis. Bar charts are generally used to compare values.We can use bar plots in visualizing:\n",
    "\n",
    " * Pizza delivery time in peak and non peak hours\n",
    " * Population comparison by gender\n",
    " * Number of views by movie name\n",
    "\n",
    "**In plotly express we set the axis values and the title within the same function call `px.<graphtype>(x=<xaxis value source>,y=<y-axis value source>,title=<appropriate title as a string>)`.In the below code we use `px.bar( x=grade_array, y=score_array, title='Pass Percentage of Classes')`.**\n"
   ]
  },
  {
   "cell_type": "code",
   "execution_count": null,
   "id": "142d29b0-90e3-416d-94dc-fb1fe49c844d",
   "metadata": {},
   "outputs": [],
   "source": [
    "#ex3: illustrate the average pass percentage of classes from grade 6 to grade 10\n",
    "\n",
    "score_array=[80,90,56,88,95]\n",
    "grade_array=['Grade 6','Grade 7','Grade 8','Grade 9','Grade 10']\n",
    "\n",
    "fig = px.bar(x = grade_array, y = score_array, title = \"Pass Percentage of Classes\")\n",
    "fig.show()"
   ]
  },
  {
   "cell_type": "markdown",
   "id": "c08f5bb6-4cda-467b-9a7e-daada74b2dca",
   "metadata": {},
   "source": [
    "---\n",
    "## Histogram\n",
    "\n",
    " A histogram is used to represent continuous data in the form of bar. Each bar has discrete values in bar graphs, whereas in histograms, we have bars representing a range of values. Histograms show frequency distributions. We can use histograms to visualize:\n",
    " \n",
    " * Students marks distribution\n",
    " * Frequency of waiting time of customers in a Bank\n",
    "\n"
   ]
  },
  {
   "cell_type": "code",
   "execution_count": null,
   "id": "666cf6ae-f2d1-4327-b498-38e7ae080d58",
   "metadata": {},
   "outputs": [],
   "source": [
    "#ex4: illustrate the distribution of heights of 200 people using a histogram\n",
    "heights_array = np.random.normal(160, 11, 200)\n",
    "\n",
    "fig = px.histogram(x = heights_array, title = \"Distribuition of Heights\")\n",
    "fig.show()"
   ]
  },
  {
   "cell_type": "markdown",
   "id": "6b551726-dfd0-4b2c-a0a5-1a7e575e6a21",
   "metadata": {},
   "source": [
    "---\n",
    "## Bubble Plot\n",
    "A bubble plot is used to show the relationship between 3 or more variables. It is an extension of a scatter plot. Bubble plots are ideal for visualizing:\n",
    "\n",
    "  * Global Economic position of Industries\n",
    "  * Impact of viruses on Diseases\n"
   ]
  },
  {
   "cell_type": "code",
   "execution_count": null,
   "id": "63858abd-8796-4d2b-9722-baa3b953b5b0",
   "metadata": {},
   "outputs": [],
   "source": [
    "#ex4: illustrate crime statistics of US cities with a bubble chart\n",
    "\n",
    "#create dictionary having  city, number_of_crimes and year as key\n",
    "crime_details = {\n",
    "    'City' : ['Chicago', 'Chicago', 'Austin', 'Austin','Seattle','Seattle'],\n",
    "    'Numberofcrimes' : [1000, 1200, 400, 700,350,1500],\n",
    "    'Year' : ['2007', '2008', '2007', '2008','2007','2008'],\n",
    "}\n",
    "\n",
    "df = pd.DataFrame(crime_details)\n",
    "df"
   ]
  },
  {
   "cell_type": "code",
   "execution_count": null,
   "id": "7f6ad816-0d52-416a-9329-8ad9fb2f19bb",
   "metadata": {},
   "outputs": [],
   "source": [
    "bubble_data = df.groupby(\"City\")[\"Numberofcrimes\"].sum().reset_index()\n",
    "bubble_data"
   ]
  },
  {
   "cell_type": "code",
   "execution_count": null,
   "id": "b04d5ab3-29d7-4b9f-b174-a314304aadaf",
   "metadata": {},
   "outputs": [],
   "source": [
    "fig = px.scatter(bubble_data, x = \"City\", y = \"Numberofcrimes\",\n",
    "                 size = \"Numberofcrimes\", hover_name = \"City\",\n",
    "                 title = \"Crime Statistics\", size_max = 60)\n",
    "fig.show()"
   ]
  },
  {
   "cell_type": "markdown",
   "id": "b36a3364-dd4a-4c76-847a-379074c6cd61",
   "metadata": {},
   "source": [
    "---\n",
    "## Pie Chart\n",
    "A pie plot is a circle chart mainly used to represent proportion of part of given data with respect to the whole data. Each slice represents a proportion and on total of the proportion becomes a whole. We can use bar plots in visualizing:\n",
    " \n",
    " * Sales turnover percentatge with respect to different products\n",
    " * Monthly expenditure of a Family\n"
   ]
  },
  {
   "cell_type": "code",
   "execution_count": null,
   "id": "ac6e625a-be9c-48f0-977b-4db8dc207da2",
   "metadata": {},
   "outputs": [],
   "source": [
    "##ex5: Monthly expenditure of a family\n",
    "exp_percent= [20, 50, 10,8,12]   # sum to 100\n",
    "house_holdcategories = ['Grocery', 'Rent', 'School Fees','Transport','Savings']\n",
    "\n",
    "# Use px.pie function to create the chart. Input dataset. \n",
    "# Values parameter will set values associated to the sector. 'exp_percent' feature is passed to it.\n",
    "# labels for the sector are passed to the `house hold categoris` parameter.\n",
    "\n",
    "fig = px.pie(values = exp_percent, names = house_holdcategories,\n",
    "             title = \"Household Expenditure\")\n",
    "fig.show()"
   ]
  },
  {
   "cell_type": "markdown",
   "id": "25b646b2-adcd-4fb2-a795-108e035eed14",
   "metadata": {},
   "source": [
    "---\n",
    "## Sunburst Chart\n",
    "Sunburst charts represent hierarchial data in the form of concentric circles. Here the innermost circle is the root node which defines the parent, and then the outer rings move down the hierarchy from the centre. They are also called radial charts.We can use them to plot\n",
    "\n",
    "* Worldwide mobile Sales where we can drill down as follows:   \n",
    "    * innermost circle represents total sales  \n",
    "    * first outer circle represents continentwise sales\n",
    "    * second outer circle represents countrywise sales within each continent\n",
    "       \n",
    "* Disease outbreak hierarchy\n",
    "\n",
    "* Real Estate Industrial chain"
   ]
  },
  {
   "cell_type": "code",
   "execution_count": null,
   "id": "253c4390-6517-4fb7-8ab6-038b2a9f6386",
   "metadata": {},
   "outputs": [],
   "source": [
    "#ex6:\n",
    "\n",
    "#Create a dictionary having a set of people represented by a character array and the parents of these characters represented in another\n",
    "## array and the values are the values associated to the vectors.\n",
    "\n",
    "data = dict(\n",
    "    character=[\"Eve\", \"Cain\", \"Seth\", \"Enos\", \"Noam\", \"Abel\", \"Awan\", \"Enoch\", \"Azura\"],\n",
    "    parent=[\"\", \"Eve\", \"Eve\", \"Seth\", \"Seth\", \"Eve\", \"Eve\", \"Awan\", \"Eve\" ],\n",
    "    value=[10, 14, 12, 10, 2, 6, 6, 4, 4])\n",
    "\n",
    "fig = px.sunburst(\n",
    "    data,\n",
    "    names = \"character\",\n",
    "    parents = \"parent\",\n",
    "    values = \"value\",\n",
    "    title = \"Family Chart\"\n",
    ")\n",
    "\n",
    "fig.show()"
   ]
  },
  {
   "cell_type": "markdown",
   "id": "a77e3976-9509-4eca-8108-e56acb24014f",
   "metadata": {},
   "source": [
    "---\n",
    "---\n",
    "# Practice Exercises: Apply Plotly Skills to an Airline Dataset\n",
    "\n",
    "The Reporting Carrier On-Time Performance Dataset contains information on approximately 200 million domestic US flights reported to the United States Bureau of Transportation Statistics. The dataset contains basic information about each flight (such as date, time, departure airport, arrival airport) and, if applicable, the amount of time the flight was delayed and information about the reason for the delay. This dataset can be used to predict the likelihood of a flight arriving on time."
   ]
  },
  {
   "cell_type": "code",
   "execution_count": null,
   "id": "8af7cfcf-5373-4c3c-9118-af797f6c9e58",
   "metadata": {},
   "outputs": [],
   "source": [
    "df = pd.read_csv(\"datasets/airline.csv\", encoding = \"ISO-8859-1\",\n",
    "                            dtype={'Div1Airport': str, 'Div1TailNum': str, \n",
    "                                   'Div2Airport': str, 'Div2TailNum': str})\n",
    "df.head()"
   ]
  },
  {
   "cell_type": "code",
   "execution_count": null,
   "id": "d0aba4ae-32ee-419f-a409-5f6a722c4985",
   "metadata": {},
   "outputs": [],
   "source": [
    "df.shape"
   ]
  },
  {
   "cell_type": "code",
   "execution_count": null,
   "id": "9f6248b8-6a56-4c04-9136-e4ae10fc432c",
   "metadata": {},
   "outputs": [],
   "source": [
    "data = df.sample(n = 500, random_state = 42)\n",
    "data.shape"
   ]
  },
  {
   "cell_type": "markdown",
   "id": "94c91a82-da21-4974-b516-736b8d394072",
   "metadata": {},
   "source": [
    "It would be interesting if we visually  capture details such as\n",
    "\n",
    "* Departure time changes with respect to airport distance.\n",
    "\n",
    "* Average Flight Delay time over the months\n",
    "\n",
    "* Comparing number of flights in each destination state\n",
    "\n",
    "* Number of  flights per reporting airline\n",
    "\n",
    "* Distrubution of arrival delay\n",
    "\n",
    "* Proportion of distance group by month (month indicated by numbers)\n",
    "\n",
    "* Hierarchical view in othe order of month and destination state holding value of number of flights\n",
    "\n",
    "\n",
    "## Scatter Plot\n",
    "Let us use a scatter plot to represent departure time changes with respect to airport distance\n",
    "\n",
    "This plot should contain the following\n",
    "\n",
    "* Title as **Distance vs Departure Time**.\n",
    "* x-axis label should be **Distance**\n",
    "* y-axis label should be **DeptTime**\n",
    "* **Distance** column data from the flight delay dataset should be considered in x-axis\n",
    "* **DepTime** column data from the flight delay dataset should be considered in y-axis\n",
    "* Scatter plot markers should be of red color\n"
   ]
  },
  {
   "cell_type": "code",
   "execution_count": null,
   "id": "c392bc72-0df0-4843-a805-2c428b3d0921",
   "metadata": {},
   "outputs": [],
   "source": [
    "distance = data.Distance\n",
    "dep_time = data.DepTime\n",
    "\n",
    "fig = go.Figure()\n",
    "fig.add_trace(go.Scatter(x = distance, y  = dep_time, mode = \"markers\", marker = dict(color=\"blue\")))\n",
    "fig.update_layout(title='Distance vs Departure Time', xaxis_title='Distance', yaxis_title='Departure Time')\n",
    "\n",
    "fig.show()"
   ]
  },
  {
   "cell_type": "markdown",
   "id": "850cc566-0bcd-42d7-a201-339de73c6cb8",
   "metadata": {},
   "source": [
    "**Inferences**\n",
    "\n",
    "It can be inferred that there are more flights round the clock for shorter distances. However, for longer distance there are limited flights through the day.\n",
    "\n",
    "---\n",
    "## Line Plot\n",
    "Let us now use a line plot to extract average monthly arrival delay time and see how it changes over the year.\n",
    "\n",
    "  This plot should contain the following\n",
    "\n",
    "* Title as **Month vs Average Flight Delay Time**.\n",
    "* x-axis label should be **Month**\n",
    "* y-axis label should be **ArrDelay**\n",
    "* A new dataframe **line_data** should be created which consists of 2 columns average **arrival delay time per month** and **month** from the dataset\n",
    "* **Month** column data from the line_data dataframe should be considered in x-axis\n",
    "* **ArrDelay** column data from the ine_data dataframeshould be considered in y-axis\n",
    "* Plotted line in the line plot should be of green color\n"
   ]
  },
  {
   "cell_type": "code",
   "execution_count": null,
   "id": "b196409d-a892-4550-a89c-84a2ab6a55be",
   "metadata": {},
   "outputs": [],
   "source": [
    "# Group the data by Month and compute average over arrival delay time.\n",
    "line_data = data.groupby('Month')['ArrDelay'].mean().reset_index()\n",
    "line_data"
   ]
  },
  {
   "cell_type": "code",
   "execution_count": null,
   "id": "db7bd008-fa6c-4cd8-8e2e-529ad36bbf4d",
   "metadata": {},
   "outputs": [],
   "source": [
    "month = line_data.Month\n",
    "arr_delay = line_data.ArrDelay\n",
    "\n",
    "fig = go.Figure()\n",
    "fig.add_trace(go.Scatter(x = month, y = arr_delay, mode = \"lines\", marker = dict(color=\"green\")))\n",
    "fig.update_layout(title = \"Month vs Average Flight Delay Time\",\n",
    "                  xaxis_title = \"Month\",\n",
    "                  yaxis_title = \"ArrDelay\"\n",
    "                 )\n",
    "\n",
    "fig.show()"
   ]
  },
  {
   "cell_type": "markdown",
   "id": "f92360ad-db5b-45b8-8d93-b407e52ca3ca",
   "metadata": {},
   "source": [
    "**Inferences**\n",
    "\n",
    "It is found that in the month of June the average monthly delay time is the maximum\n",
    "\n",
    "---\n",
    "## Bar Chart\n",
    "\n",
    "Let us use a bar chart to extract number of flights from a specific airline that goes to a destination\n",
    "\n",
    "This plot should contain the following\n",
    "\n",
    "* Title as **Total number of flights to the destination state split by reporting air**.\n",
    "* x-axis label should be **DestState**\n",
    "* y-axis label should be **Flights**\n",
    "* Create a new dataframe called **bar_data**  which contains 2 columns **DestState** and **Flights**.Here **flights** indicate total number of flights in each combination.\n",
    "\n"
   ]
  },
  {
   "cell_type": "code",
   "execution_count": null,
   "id": "8b348fe0-fb41-4102-9348-bc07d76b737a",
   "metadata": {},
   "outputs": [],
   "source": [
    "bar_data = data.groupby(\"DestState\")[\"Flights\"].sum().reset_index()\n",
    "dest_state = bar_data.DestState\n",
    "flights = bar_data.Flights"
   ]
  },
  {
   "cell_type": "code",
   "execution_count": null,
   "id": "1d8c1467-5249-4889-86c4-29e9f62ecb0c",
   "metadata": {},
   "outputs": [],
   "source": [
    "fig = px.bar(x = dest_state, y = flights, title = \"Total number of flights to the destination state split by reporting air\")\n",
    "fig.show()"
   ]
  },
  {
   "cell_type": "markdown",
   "id": "ddd0d516-6466-4bdb-bb67-2a19d3d7aea1",
   "metadata": {},
   "source": [
    "**Inferences**\n",
    "It is found that there is only max of 5 flights with an arrival delay of 50-54 minutes and around 17 flights with an arrival delay of 20-25 minutes\n",
    "\n",
    "---\n",
    "## Histogram\n",
    "\n",
    "\n",
    "Let us represent the distribution of arrival delay using a histogram\n",
    "\n",
    "This plot should contain the following\n",
    "\n",
    "* Title as **Total number of flights to the destination state split by reporting air**.\n",
    "* x-axis label should be **ArrayDelay**\n",
    "* y-axis will show the count of arrival delay\n"
   ]
  },
  {
   "cell_type": "code",
   "execution_count": null,
   "id": "2772631d-5415-49db-8172-ed5e4934ede5",
   "metadata": {},
   "outputs": [],
   "source": [
    "data['ArrDelay'] = data['ArrDelay'].fillna(0)\n",
    "fig = px.histogram(x = data[\"ArrDelay\"], title = \"Total Number of flights to the destination state  split by reporting air\")\n",
    "fig.show()"
   ]
  },
  {
   "cell_type": "markdown",
   "id": "506ecf2e-9070-4687-b38a-faeb2348dc4d",
   "metadata": {},
   "source": [
    "**Inferences**\n",
    "\n",
    "It is found that there is only max of 5 flights with an arrival delay of 50-54 minutes and around 17 flights with an arrival delay of 20-25 minutes\n",
    "\n",
    "---\n",
    "## Bubble Chart\n",
    "Let  use a bubble plot to represent number of flights as per reporting airline\n",
    "\n",
    "This plot should contain the following\n",
    "\n",
    "* Title as **Reporting Airline vs Number of Flights**.\n",
    "* x-axis label should be **Reporting_Airline**\n",
    "* y-axis label should be **Flights**\n",
    "* size of the bubble should be **Flights** indicating number of flights\n",
    "* Name of the hover tooltip to `reporting_airline` using `hover_name` parameter.\n"
   ]
  },
  {
   "cell_type": "code",
   "execution_count": null,
   "id": "6657d294-2af8-4692-b742-08289fd27965",
   "metadata": {},
   "outputs": [],
   "source": [
    "bub_data = data.groupby('Reporting_Airline')['Flights'].sum().reset_index()\n",
    "bub_data"
   ]
  },
  {
   "cell_type": "code",
   "execution_count": null,
   "id": "3b1f429c-9c40-472a-a216-afd3b1a4cfb8",
   "metadata": {},
   "outputs": [],
   "source": [
    "fig = px.scatter(bub_data, x = \"Reporting_Airline\", y = \"Flights\",\n",
    "                 size = \"Flights\", hover_name  = \"Reporting_Airline\",\n",
    "                 size_max = 60)\n",
    "fig.show()"
   ]
  },
  {
   "cell_type": "markdown",
   "id": "420a1594-78b8-409a-84a2-25f1f163c5cc",
   "metadata": {},
   "source": [
    "**Inferences**\n",
    "\n",
    "It is found that the reporting airline **WN** has the highest number of flights which is around 86\n",
    "\n",
    "---\n",
    "## Pie Chart\n",
    "\n",
    "Let us represent the proportion of Flights by Distance Group (Flights indicated by numbers)\n",
    "\n",
    "This plot should contain the following\n",
    "\n",
    "* Title as **Flight propotion by Distance Group**.\n",
    "* values should be **Flights**\n",
    "* names should be **DistanceGroup**\n"
   ]
  },
  {
   "cell_type": "code",
   "execution_count": null,
   "id": "79c18951-0a67-4b92-8916-066b844d2b8c",
   "metadata": {},
   "outputs": [],
   "source": [
    "fig=px.pie(values = data.Flights, names = data.DistanceGroup,\n",
    "           title = \"Flight Peoportion by distance Group\")\n",
    "fig.show()"
   ]
  },
  {
   "cell_type": "markdown",
   "id": "835edd40-8c93-4c3f-88f6-a857953d74f3",
   "metadata": {},
   "source": [
    "**Inferences**\n",
    "It is found that Distance group 2 has the highest flight proportion.\n",
    "\n",
    "---\n",
    "## SunBurst Chart\n",
    "Let us represent the hierarchical view in othe order of month and destination state holding value of number of flights\n",
    "\n",
    "This plot should contain the following\n",
    "\n",
    "*  Define hierarchy of sectors from root to leaves in `path` parameter. Here, we go from `Month` to `DestStateName` feature.\n",
    "*   Set sector values in `values` parameter. Here, we can pass in `Flights` feature.\n",
    "*   Show the figure.\n",
    "*   Title as **Flight Distribution Hierarchy**\n"
   ]
  },
  {
   "cell_type": "code",
   "execution_count": null,
   "id": "17c6ad18-26e2-43a1-b955-c8262978f45c",
   "metadata": {},
   "outputs": [],
   "source": [
    "path = data[[\"Month\", \"DestStateName\", \"Flights\"]]"
   ]
  },
  {
   "cell_type": "code",
   "execution_count": null,
   "id": "23dccefe-e4db-481c-8666-f349722826e5",
   "metadata": {},
   "outputs": [],
   "source": [
    "fig = px.sunburst(\n",
    "    path.to_dict(),\n",
    "    names = \"DestStateName\",\n",
    "    parents = \"Month\",\n",
    "    values =  \"Flights\",\n",
    "    title  = \"Flights Distribuition Hierarchy\"\n",
    ")\n",
    "fig.show()"
   ]
  },
  {
   "cell_type": "markdown",
   "id": "4d5ecd5c-8a25-46d4-8859-66a7d1d4a8a3",
   "metadata": {},
   "source": [
    "**Inferences**\n",
    "\n",
    "Here the  **Month** numbers present in the innermost concentric circle is the root and for each month we will check the **number of flights** for the different **destination states** under it.\n"
   ]
  },
  {
   "cell_type": "markdown",
   "id": "212d6bc7-200e-4d1f-bb60-8cd8755af613",
   "metadata": {},
   "source": [
    "---\n",
    "Thank You!!!"
   ]
  }
 ],
 "metadata": {
  "kernelspec": {
   "display_name": "Python 3 (ipykernel)",
   "language": "python",
   "name": "python3"
  },
  "language_info": {
   "codemirror_mode": {
    "name": "ipython",
    "version": 3
   },
   "file_extension": ".py",
   "mimetype": "text/x-python",
   "name": "python",
   "nbconvert_exporter": "python",
   "pygments_lexer": "ipython3",
   "version": "3.12.3"
  }
 },
 "nbformat": 4,
 "nbformat_minor": 5
}
