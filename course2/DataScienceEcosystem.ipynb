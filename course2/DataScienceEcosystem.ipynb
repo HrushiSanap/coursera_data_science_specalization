{
 "cells": [
  {
   "cell_type": "markdown",
   "id": "8a0ec7ed-6702-44b2-b433-e0fd6afbf2f6",
   "metadata": {},
   "source": [
    "*Exercise 2*\n",
    "# Data Science Tools annd Ecosystem\n",
    "______________________"
   ]
  },
  {
   "cell_type": "markdown",
   "id": "180a7016-7879-4de1-911f-87fe3c5597ff",
   "metadata": {},
   "source": [
    "*Exercise 3*\n",
    "\n",
    "In this notebook, Data Science Tools and Ecosystem are summarized.\n",
    "___________"
   ]
  },
  {
   "cell_type": "markdown",
   "id": "4f59492c-1f51-45ff-b3ec-24a534a166e7",
   "metadata": {},
   "source": [
    "*Exercise 4*\n",
    "\n",
    "Some of the popular languages that Data Scientists use are:\n",
    "1. Python\n",
    "2. R\n",
    "3. SQL\n",
    "4. Julia\n",
    "____________________"
   ]
  },
  {
   "cell_type": "markdown",
   "id": "8687f7a2-6886-4233-81a1-ef5e49bb8625",
   "metadata": {},
   "source": [
    "*Exercise 5*\n",
    "\n",
    "Some of the commonly used libraries used by Data Scientists include:\n",
    "1. Python\n",
    "   1. NumPy – Numerical computing, arrays, and matrices\n",
    "   2. pandas – Data manipulation and analysis\n",
    "   3. Matplotlib – Basic data visualization (plots, graphs)\n",
    "   4. Seaborn – Statistical data visualization (built on Matplotlib)\n",
    "   5. scikit-learn – Machine learning models and tools\n",
    "   6. TensorFlow – Deep learning and neural networks\n",
    "   7. Keras – High-level API for building deep learning models\n",
    "   8. PyTorch – Flexible deep learning framework\n",
    "\n",
    "2. R\n",
    "   1. ggplot – Advanced data visualization\n",
    "   2. dplyr – Data manipulation (filtering, summarizing, etc.)\n",
    "   3. stringr – String operations and manipulation\n",
    "________________________"
   ]
  },
  {
   "cell_type": "markdown",
   "id": "761926e9-6d85-4992-8e70-79c9c9b2c635",
   "metadata": {},
   "source": [
    "*Exercise 6*\n",
    "\n",
    "|Data Science Tools|\n",
    "|------------------|\n",
    "|Jupyter Notebook|\n",
    "|RStudio|\n",
    "|Anaconda Navigator|\n",
    "_____________"
   ]
  },
  {
   "cell_type": "markdown",
   "id": "153e82ba-a72f-47a7-a834-2bb0af41c86e",
   "metadata": {},
   "source": [
    "*Exercise 7*\n",
    "\n",
    "### Below are a few examples of evaluating arithmetic expressions in Python.\n",
    "______________"
   ]
  },
  {
   "cell_type": "markdown",
   "id": "f1713d09-e94d-48b8-8067-ee6a74f96a27",
   "metadata": {},
   "source": [
    "*Exercise 8*"
   ]
  },
  {
   "cell_type": "code",
   "execution_count": 1,
   "id": "d35fc390-0d7e-4c4a-a6b0-bef3b3db39b0",
   "metadata": {},
   "outputs": [
    {
     "data": {
      "text/plain": [
       "17"
      ]
     },
     "execution_count": 1,
     "metadata": {},
     "output_type": "execute_result"
    }
   ],
   "source": [
    "# his a simple arithmetic expression to mutiply then add integers\n",
    "(3*4)+5"
   ]
  },
  {
   "cell_type": "markdown",
   "id": "f027d6fa-4ecb-4051-8c5a-1585c0761058",
   "metadata": {},
   "source": [
    "___________________\n",
    "*Exercise 9*"
   ]
  },
  {
   "cell_type": "code",
   "execution_count": 2,
   "id": "98a7d45f-3f07-4345-98a7-12c558880680",
   "metadata": {},
   "outputs": [
    {
     "name": "stdout",
     "output_type": "stream",
     "text": [
      "3.33\n"
     ]
    }
   ],
   "source": [
    "#This will convert 200 minutes to hours by diving by 60\n",
    "minutes = 200\n",
    "hours = minutes/ 60\n",
    "print(round(hours, 2))"
   ]
  },
  {
   "cell_type": "markdown",
   "id": "810730f0-8a81-4604-aba1-4b12e9cd70b9",
   "metadata": {},
   "source": [
    "___________________\n",
    "*Exercise 10*\n",
    "\n",
    "**Objectives:**\n",
    "- List popular languages used in Data Science\n",
    "- List commonly used libraries for Data Science\n",
    "- Create a table that includes development environment open-source tools used in Data Science\n",
    "- Learn how Python evaluates arithmetic expressions\n",
    "- Learn how to use markdowns and code cells in jupyter notebook"
   ]
  },
  {
   "cell_type": "markdown",
   "id": "d0bd2e6b-a01b-4790-b68b-6d5d956a6331",
   "metadata": {},
   "source": [
    "________________\n",
    "*Exercise 11*\n",
    "\n",
    "## Author \n",
    "Hrushikesh Sanap"
   ]
  },
  {
   "cell_type": "code",
   "execution_count": null,
   "id": "89c322f6-2645-450f-8563-947265669005",
   "metadata": {},
   "outputs": [],
   "source": []
  }
 ],
 "metadata": {
  "kernelspec": {
   "display_name": "Python 3 (ipykernel)",
   "language": "python",
   "name": "python3"
  },
  "language_info": {
   "codemirror_mode": {
    "name": "ipython",
    "version": 3
   },
   "file_extension": ".py",
   "mimetype": "text/x-python",
   "name": "python",
   "nbconvert_exporter": "python",
   "pygments_lexer": "ipython3",
   "version": "3.12.9"
  }
 },
 "nbformat": 4,
 "nbformat_minor": 5
}
